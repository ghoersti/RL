{
 "cells": [
  {
   "cell_type": "code",
   "execution_count": null,
   "id": "de956a1c",
   "metadata": {},
   "outputs": [],
   "source": [
    "!which python"
   ]
  },
  {
   "cell_type": "code",
   "execution_count": 5,
   "id": "5ca1ddc9",
   "metadata": {},
   "outputs": [],
   "source": [
    "cat = !pwd\n",
    "\n",
    "plot_directory = cat[0] +\"/fro_lake/\""
   ]
  },
  {
   "cell_type": "code",
   "execution_count": null,
   "id": "ff0370d1",
   "metadata": {},
   "outputs": [],
   "source": [
    "ValueIteration?"
   ]
  },
  {
   "cell_type": "code",
   "execution_count": null,
   "id": "aeae76cf",
   "metadata": {},
   "outputs": [],
   "source": [
    "conda install pandas"
   ]
  },
  {
   "cell_type": "code",
   "execution_count": 6,
   "id": "28416010",
   "metadata": {},
   "outputs": [],
   "source": [
    "import pandas as pd"
   ]
  },
  {
   "cell_type": "code",
   "execution_count": 7,
   "id": "e5fbc07b",
   "metadata": {},
   "outputs": [],
   "source": [
    "import pandas as pd\n",
    "from gym import wrappers\n",
    "import time\n",
    "import sys\n",
    "import matplotlib.pyplot as plt\n",
    "import numpy as np\n",
    "import gym\n",
    "from hiive.mdptoolbox.mdp import PolicyIteration, ValueIteration, QLearning, PolicyIterationModified\n",
    "\n",
    "#https://medium.com/analytics-vidhya/solving-the-frozenlake-environment-from-openai-gym-using-value-iteration-5a078dffe438\n",
    "def get_score(env, policy, episodes=100):\n",
    "    misses = 0\n",
    "    steps_list = []\n",
    "    for episode in range(episodes):\n",
    "        observation = env.reset()\n",
    "        steps=0\n",
    "        while True:\n",
    "      \n",
    "            action = policy[observation]\n",
    "            observation, reward, done, _ = env.step(action)\n",
    "            steps+=1\n",
    "            if done and reward == 1:\n",
    "                # print('You have got the fucking Frisbee after {} steps'.format(steps))\n",
    "                steps_list.append(steps)\n",
    "                break\n",
    "            elif done and reward == 0:\n",
    "                # print(\"You fell in a hole!\")\n",
    "                misses += 1\n",
    "                break\n",
    "    print('----------------------------------------------')\n",
    "    print('You took an average of {:.0f} steps to get the frisbee'.format(np.mean(steps_list)))\n",
    "    print('And you fell in the hole {:.2f} % of the times'.format((misses/episodes) * 100))\n",
    "    print('----------------------------------------------')\n",
    "\n",
    "def colors_lake():\n",
    "\treturn {\n",
    "\t\tb'S': 'green',\n",
    "\t\tb'F': 'skyblue',\n",
    "\t\tb'H': 'black',\n",
    "\t\tb'G': 'gold',\n",
    "\t}\n",
    "\n",
    "def directions_lake():\n",
    "\treturn {\n",
    "\t\t3: '⬆',\n",
    "\t\t2: '➡',\n",
    "\t\t1: '⬇',\n",
    "\t\t0: '⬅'\n",
    "\t}\n",
    "\n",
    "\n",
    "            \n",
    "            \n",
    "def create_numeric_transition_and_reward_matrix(env,actions,states):\n",
    "    P = np.zeros((actions, states, states))\n",
    "    R = np.zeros((states, actions))\n",
    "    dict_transition = env.P\n",
    "    states = dict_transition.keys()\n",
    "    for state in states:\n",
    "        for act in dict_transition[state]:\n",
    "            for choice in dict_transition[state][act]:\n",
    "                prob = choice[0]\n",
    "                s_ = choice[1]\n",
    "                reward = choice[2]\n",
    "                P[act][state][s_] += prob\n",
    "                R[state][act] += reward\n",
    "    return P,R\n",
    "            \n",
    "                \n",
    "        \n",
    "def plot_policy(title, policy, map_desc, color_map, direction_map):\n",
    "    fig = plt.figure()\n",
    "    ax = fig.add_subplot(111, xlim=(0, policy.shape[1]), ylim=(0, policy.shape[0]))\n",
    "    font_size = 'x-large'\n",
    "    plt.title(title)\n",
    "    for i in range(policy.shape[0]):\n",
    "        for j in range(policy.shape[1]):\n",
    "            y = policy.shape[0] - i - 1\n",
    "            x = j\n",
    "            p = plt.Rectangle([x, y], 1, 1)\n",
    "            rectangle_color = color_map[map_desc[i, j]]\n",
    "            p.set_facecolor(rectangle_color)\n",
    "            ax.add_patch(p)\n",
    "            if rectangle_color == 'gold':\n",
    "                text = ax.text(x+0.5, y+0.5, \"GOAL\", weight='bold', size=font_size,\n",
    "                           horizontalalignment='center', verticalalignment='center', color='w')\n",
    "                \n",
    "            elif rectangle_color == 'black':\n",
    "                text = ax.text(x+0.5, y+0.5, \"HOLE\", weight='bold', size=font_size,\n",
    "                           horizontalalignment='center', verticalalignment='center', color='w')\n",
    "            \n",
    "            \n",
    "            else:\n",
    "                text = ax.text(x+0.5, y+0.5, direction_map[policy[i, j]], weight='bold', size=font_size,\n",
    "                           horizontalalignment='center', verticalalignment='center', color='w')\n",
    "    plt.axis('off')\n",
    "    plt.xlim((0, policy.shape[1]))\n",
    "    plt.ylim((0, policy.shape[0]))\n",
    "    plt.tight_layout()  \n",
    "\n",
    "\n",
    "\n",
    "\n"
   ]
  },
  {
   "cell_type": "code",
   "execution_count": null,
   "id": "1b5b2943",
   "metadata": {},
   "outputs": [],
   "source": [
    "Original Environment view\n",
    "Environment view with optimal policy found\n",
    "Relative reward vs environment complexity (PI ,VI, Q learning)\n",
    "Time to solution vs environment complexity (PI, VI, Q learning)\n"
   ]
  },
  {
   "cell_type": "code",
   "execution_count": null,
   "id": "c569f104",
   "metadata": {},
   "outputs": [],
   "source": [
    "get_score(env, best_policy, episodes=1000)"
   ]
  },
  {
   "cell_type": "markdown",
   "id": "452371fd",
   "metadata": {},
   "source": [
    "## Value Iteration"
   ]
  },
  {
   "cell_type": "code",
   "execution_count": null,
   "id": "27c9e484",
   "metadata": {},
   "outputs": [],
   "source": [
    "Reward (Utility) vs iterations\n",
    "Reward (Utility) vs discount/gamma (PI, VI)\n",
    "Time vs iterations\n",
    "Time vs discount/gamma (PI, VI)\n",
    "Delta convergence"
   ]
  },
  {
   "cell_type": "markdown",
   "id": "2981d9fc",
   "metadata": {},
   "source": [
    "## Set up env "
   ]
  },
  {
   "cell_type": "code",
   "execution_count": 23,
   "id": "6ca9822d",
   "metadata": {},
   "outputs": [
    {
     "data": {
      "text/plain": [
       "(64, 4)"
      ]
     },
     "execution_count": 23,
     "metadata": {},
     "output_type": "execute_result"
    }
   ],
   "source": [
    "R.shape"
   ]
  },
  {
   "cell_type": "code",
   "execution_count": 8,
   "id": "6f4717b2",
   "metadata": {},
   "outputs": [],
   "source": [
    "env = gym.make('FrozenLake8x8-v0')\n",
    "env = env.unwrapped\n",
    "desc = env.unwrapped.desc\n",
    "P, R = create_numeric_transition_and_reward_matrix(env, 4,64)"
   ]
  },
  {
   "cell_type": "code",
   "execution_count": 36,
   "id": "43123af2",
   "metadata": {},
   "outputs": [],
   "source": [
    "#https://medium.com/analytics-vidhya/solving-the-frozenlake-environment-from-openai-gym-using-value-iteration-5a078dffe438\n",
    "def get_score(env, policy, utility,  episodes=100):\n",
    "    misses = 0\n",
    "    steps_list = []\n",
    "    reward_list = []\n",
    "    \n",
    "    for episode in range(episodes):\n",
    "        observation = env.reset()\n",
    "        steps=0\n",
    "        utility_sum = 0 \n",
    "        while True:\n",
    "            action = policy[observation]\n",
    "            utility_sum += utility[observation]\n",
    "            observation, reward, done, _ = env.step(action)\n",
    "            steps+=1\n",
    "            if done and reward == 1:\n",
    "                utility_sum += utility[observation]\n",
    "                reward_list.append(utility_sum)\n",
    "                steps_list.append(steps)\n",
    "                break\n",
    "            elif done and reward == 0:\n",
    "                # print(\"You fell in a hole!\")\n",
    "                utility_sum += utility[observation]\n",
    "                reward_list.append(utility_sum)\n",
    "                misses += 1\n",
    "                break\n",
    "    print('----------------------------------------------')\n",
    "    print('You took an average of {:.0f} steps to get the frisbee'.format(np.mean(steps_list)))\n",
    "    print('And you fell in the hole {:.2f} % of the times'.format((misses/episodes) * 100))\n",
    "    print('An average Utility of {0} per episode to get the for {1}'.format(np.mean(reward_list), episodes))\n",
    "    print('An max Utility of {0} to get the for {1}'.format(np.amax(reward_list), episodes))\n",
    "    print('----------------------------------------------')\n",
    "    return misses, episodes, np.array(steps_list), np.array(reward_list)\n"
   ]
  },
  {
   "cell_type": "code",
   "execution_count": null,
   "id": "234ef303",
   "metadata": {},
   "outputs": [],
   "source": [
    "# plots needed \n",
    "Reward (Utility) vs iterations\n",
    "Time vs iterations\n",
    "\n",
    "Reward (Utility) vs discount/gamma (PI, VI)≈\n",
    "Time vs discount/gamma (PI, VI)\n"
   ]
  },
  {
   "cell_type": "code",
   "execution_count": 52,
   "id": "ff732569",
   "metadata": {},
   "outputs": [
    {
     "data": {
      "text/plain": [
       "array([0.1       , 0.11836735, 0.13673469, 0.15510204, 0.17346939,\n",
       "       0.19183673, 0.21020408, 0.22857143, 0.24693878, 0.26530612,\n",
       "       0.28367347, 0.30204082, 0.32040816, 0.33877551, 0.35714286,\n",
       "       0.3755102 , 0.39387755, 0.4122449 , 0.43061224, 0.44897959,\n",
       "       0.46734694, 0.48571429, 0.50408163, 0.52244898, 0.54081633,\n",
       "       0.55918367, 0.57755102, 0.59591837, 0.61428571, 0.63265306,\n",
       "       0.65102041, 0.66938776, 0.6877551 , 0.70612245, 0.7244898 ,\n",
       "       0.74285714, 0.76122449, 0.77959184, 0.79795918, 0.81632653,\n",
       "       0.83469388, 0.85306122, 0.87142857, 0.88979592, 0.90816327,\n",
       "       0.92653061, 0.94489796, 0.96326531, 0.98163265, 1.        ])"
      ]
     },
     "execution_count": 52,
     "metadata": {},
     "output_type": "execute_result"
    }
   ],
   "source": [
    "np.linspace(0.1,1.,50)"
   ]
  },
  {
   "cell_type": "code",
   "execution_count": 47,
   "id": "5f1f5824",
   "metadata": {},
   "outputs": [
    {
     "data": {
      "text/plain": [
       "0.12113834616041093"
      ]
     },
     "execution_count": 47,
     "metadata": {},
     "output_type": "execute_result"
    }
   ],
   "source": [
    "np.amin(np.array(vi.error_mean))"
   ]
  },
  {
   "cell_type": "markdown",
   "id": "759dd3a1",
   "metadata": {},
   "source": [
    "## helpers "
   ]
  },
  {
   "cell_type": "code",
   "execution_count": 186,
   "id": "96cb2cc3",
   "metadata": {},
   "outputs": [],
   "source": [
    "ValueIteration?"
   ]
  },
  {
   "cell_type": "code",
   "execution_count": 185,
   "id": "5c4a9482",
   "metadata": {},
   "outputs": [],
   "source": [
    "PolicyIterationModified?"
   ]
  },
  {
   "cell_type": "code",
   "execution_count": 222,
   "id": "2607d05b",
   "metadata": {},
   "outputs": [],
   "source": [
    "\n",
    "\n",
    "def get_plot_data_vi(env, gamma_range ):\n",
    "    iters = []\n",
    "    times = []\n",
    "    reward = [] \n",
    "    avg_error = []\n",
    "    gamma = []\n",
    "    goal_out_of_2000_runs = []\n",
    "    avg_steps = []\n",
    "    avg_cum_utility =[]\n",
    "    max_cum_utility = []\n",
    "    mean_reward = []\n",
    "    util_ratio=[]\n",
    "    for i,v in enumerate(gamma_range):\n",
    "        P, R = create_numeric_transition_and_reward_matrix(env, 4,64)\n",
    "        vi_temp= ValueIteration(P,R,v, epsilon= .01)\n",
    "        vi_temp.run()\n",
    "        iters.append(vi_temp.iter)\n",
    "        times.append(vi_temp.time)\n",
    "        reward.append(np.amax(vi_temp.V))\n",
    "        avg_error.append(np.amin(np.array(vi_temp.error_mean)))\n",
    "        gamma.append(v)\n",
    "        misses, episodes, steps_list, reward_list = get_score(env, vi_temp.policy,vi_temp.V ,episodes=1000)\n",
    "        goal_out_of_2000_runs.append((episodes-misses)/episodes )\n",
    "        avg_steps.append(np.mean(steps_list))\n",
    "        avg_cum_utility.append(np.mean(reward_list))\n",
    "        max_cum_utility.append(np.amax(reward_list))\n",
    "        mean_reward.append(np.mean(vi_temp.V))\n",
    "        util_ratio.append(np.mean(reward_list)/np.amax(reward_list))\n",
    "    columns =[\"Iterations\", \"Time\", \"Max_Reward\", \"Avg_error\", \"Gamma\",\n",
    "              \"Success_ratio\", \n",
    "              \"avg_steps\",\n",
    "              \"avg_cum_util\", \"max_average_utility\", \"Mean_Reward\", \"Utility_Ratio\"]\n",
    "    columns = [ \"VI_{}\".format(c) for c in columns]\n",
    "    data = list(zip(iters,times,\n",
    "                    reward,avg_error,\n",
    "                    gamma,\n",
    "                    goal_out_of_2000_runs,\n",
    "                    avg_steps,\n",
    "                    avg_cum_utility,\n",
    "                    max_cum_utility,\n",
    "                    mean_reward,\n",
    "                    util_ratio))\n",
    "    return pd.DataFrame(data,columns=columns)\n",
    "\n",
    "\n",
    "\n",
    "\n",
    "\n",
    "def get_plot_data_pi(env, gamma_range ):\n",
    "    iters = []\n",
    "    times = []\n",
    "    reward = [] \n",
    "    avg_error = []\n",
    "    gamma = []\n",
    "    goal_out_of_2000_runs = []\n",
    "    avg_steps = []\n",
    "    avg_cum_utility =[]\n",
    "    max_cum_utility = []\n",
    "    mean_reward = []\n",
    "    util_ratio = []\n",
    "    for i,v in enumerate(gamma_range):\n",
    "        P, R = create_numeric_transition_and_reward_matrix(env, 4,64)\n",
    "        vi_temp= PolicyIteration(P,R,v, max_iter=100)\n",
    "        vi_temp.run()\n",
    "        iters.append(vi_temp.iter)\n",
    "        times.append(vi_temp.time)\n",
    "        reward.append(np.amax(vi_temp.V))\n",
    "        avg_error.append(np.amin(np.array(vi_temp.error_mean)))\n",
    "        gamma.append(v)\n",
    "        misses, episodes, steps_list, reward_list = get_score(env, vi_temp.policy,vi_temp.V ,episodes=300)\n",
    "        goal_out_of_2000_runs.append((episodes-misses)/episodes )\n",
    "        avg_steps.append(np.mean(steps_list))\n",
    "        avg_cum_utility.append(np.mean(reward_list))\n",
    "        max_cum_utility.append(np.amax(reward_list))\n",
    "        mean_reward.append(np.mean(vi_temp.V))\n",
    "        util_ratio.append(np.mean(reward_list)/np.amax(reward_list))\n",
    "    columns =[\"Iterations\", \"Time\", \"Max_Reward\", \"Avg_error\", \"Gamma\",\n",
    "              \"Success_ratio\", \n",
    "              \"avg_steps\",\n",
    "              \"avg_cum_util\", \"max_average_utility\", \"Mean_Reward\",\"Utility_Ratio\"]\n",
    "    columns = [ \"PI_{}\".format(c) for c in columns]\n",
    "    data = list(zip(iters,times,\n",
    "                    reward,avg_error,\n",
    "                    gamma,\n",
    "                    goal_out_of_2000_runs,\n",
    "                    avg_steps,\n",
    "                    avg_cum_utility,\n",
    "                    max_cum_utility,\n",
    "                     mean_reward,\n",
    "                     util_ratio))\n",
    "    return pd.DataFrame(data,columns=columns)\n",
    "\n",
    "        \n",
    "        \n",
    "        \n",
    "        \n",
    "        \n",
    "        \n",
    "        \n",
    "        \n",
    "        \n",
    "    "
   ]
  },
  {
   "cell_type": "markdown",
   "id": "be87766d",
   "metadata": {},
   "source": [
    "### Run Vi / PI "
   ]
  },
  {
   "cell_type": "code",
   "execution_count": 293,
   "id": "a970daf5",
   "metadata": {},
   "outputs": [
    {
     "name": "stdout",
     "output_type": "stream",
     "text": [
      "----------------------------------------------\n",
      "You took an average of 85 steps to get the frisbee\n",
      "And you fell in the hole 95.40 % of the times\n",
      "An average Utility of 0.6087923113054892 per episode to get the for 1000\n",
      "An max Utility of 44.04240832839891 to get the for 1000\n",
      "----------------------------------------------\n",
      "----------------------------------------------\n",
      "You took an average of 84 steps to get the frisbee\n",
      "And you fell in the hole 94.60 % of the times\n",
      "An average Utility of 0.8427915570431712 per episode to get the for 1000\n",
      "An max Utility of 32.73042090888901 to get the for 1000\n",
      "----------------------------------------------\n",
      "----------------------------------------------\n",
      "You took an average of 79 steps to get the frisbee\n",
      "And you fell in the hole 54.20 % of the times\n",
      "An average Utility of 7.517126190355354 per episode to get the for 1000\n",
      "An max Utility of 81.66103920940651 to get the for 1000\n",
      "----------------------------------------------\n",
      "----------------------------------------------\n",
      "You took an average of 74 steps to get the frisbee\n",
      "And you fell in the hole 42.70 % of the times\n",
      "An average Utility of 10.831813697467489 per episode to get the for 1000\n",
      "An max Utility of 92.96849773850235 to get the for 1000\n",
      "----------------------------------------------\n",
      "----------------------------------------------\n",
      "You took an average of 72 steps to get the frisbee\n",
      "And you fell in the hole 40.60 % of the times\n",
      "An average Utility of 13.451595315025287 per episode to get the for 1000\n",
      "An max Utility of 106.59204263864166 to get the for 1000\n",
      "----------------------------------------------\n",
      "----------------------------------------------\n",
      "You took an average of 72 steps to get the frisbee\n",
      "And you fell in the hole 42.00 % of the times\n",
      "An average Utility of 16.661555497134934 per episode to get the for 1000\n",
      "An max Utility of 116.2783835268694 to get the for 1000\n",
      "----------------------------------------------\n",
      "----------------------------------------------\n",
      "You took an average of 71 steps to get the frisbee\n",
      "And you fell in the hole 38.00 % of the times\n",
      "An average Utility of 22.154715663101545 per episode to get the for 1000\n",
      "An max Utility of 188.83223130348622 to get the for 1000\n",
      "----------------------------------------------\n",
      "----------------------------------------------\n",
      "You took an average of 75 steps to get the frisbee\n",
      "And you fell in the hole 25.60 % of the times\n",
      "An average Utility of 39.478123557791974 per episode to get the for 1000\n",
      "An max Utility of 236.53319090034805 to get the for 1000\n",
      "----------------------------------------------\n",
      "----------------------------------------------\n",
      "You took an average of 84 steps to get the frisbee\n",
      "And you fell in the hole 14.80 % of the times\n",
      "An average Utility of 78.89367466213606 per episode to get the for 1000\n",
      "An max Utility of 448.9153361850123 to get the for 1000\n",
      "----------------------------------------------\n",
      "WARNING: check conditions of convergence. With no discount, convergence can not be assumed.\n",
      "----------------------------------------------\n",
      "You took an average of 114 steps to get the frisbee\n",
      "And you fell in the hole 0.00 % of the times\n",
      "An average Utility of 311.508355459295 per episode to get the for 1000\n",
      "An max Utility of 1195.522958125003 to get the for 1000\n",
      "----------------------------------------------\n",
      "----------------------------------------------\n",
      "You took an average of 77 steps to get the frisbee\n",
      "And you fell in the hole 30.00 % of the times\n",
      "An average Utility of 9.953772109059706 per episode to get the for 300\n",
      "An max Utility of 64.25301931707301 to get the for 300\n",
      "----------------------------------------------\n",
      "----------------------------------------------\n",
      "You took an average of 76 steps to get the frisbee\n",
      "And you fell in the hole 30.33 % of the times\n",
      "An average Utility of 12.608374668469402 per episode to get the for 300\n",
      "An max Utility of 48.50850803743621 to get the for 300\n",
      "----------------------------------------------\n",
      "----------------------------------------------\n",
      "You took an average of 75 steps to get the frisbee\n",
      "And you fell in the hole 27.67 % of the times\n",
      "An average Utility of 13.694163613234904 per episode to get the for 300\n",
      "An max Utility of 68.01298158599637 to get the for 300\n",
      "----------------------------------------------\n",
      "----------------------------------------------\n",
      "You took an average of 72 steps to get the frisbee\n",
      "And you fell in the hole 31.67 % of the times\n",
      "An average Utility of 16.17233001309793 per episode to get the for 300\n",
      "An max Utility of 81.59431083565353 to get the for 300\n",
      "----------------------------------------------\n",
      "----------------------------------------------\n",
      "You took an average of 74 steps to get the frisbee\n",
      "And you fell in the hole 23.67 % of the times\n",
      "An average Utility of 20.16531672547478 per episode to get the for 300\n",
      "An max Utility of 77.9156301544077 to get the for 300\n",
      "----------------------------------------------\n",
      "----------------------------------------------\n",
      "You took an average of 72 steps to get the frisbee\n",
      "And you fell in the hole 22.33 % of the times\n",
      "An average Utility of 24.85691264607502 per episode to get the for 300\n",
      "An max Utility of 137.13117505811474 to get the for 300\n",
      "----------------------------------------------\n",
      "----------------------------------------------\n",
      "You took an average of 76 steps to get the frisbee\n",
      "And you fell in the hole 27.67 % of the times\n",
      "An average Utility of 32.18348702479243 per episode to get the for 300\n",
      "An max Utility of 180.44615539142055 to get the for 300\n",
      "----------------------------------------------\n",
      "----------------------------------------------\n",
      "You took an average of 74 steps to get the frisbee\n",
      "And you fell in the hole 24.00 % of the times\n",
      "An average Utility of 44.980659186456116 per episode to get the for 300\n",
      "An max Utility of 284.2729007054002 to get the for 300\n",
      "----------------------------------------------\n",
      "----------------------------------------------\n",
      "You took an average of 79 steps to get the frisbee\n",
      "And you fell in the hole 13.67 % of the times\n",
      "An average Utility of 85.04444140974502 per episode to get the for 300\n",
      "An max Utility of 413.699108784154 to get the for 300\n",
      "----------------------------------------------\n",
      "----------------------------------------------\n",
      "You took an average of 124 steps to get the frisbee\n",
      "And you fell in the hole 0.00 % of the times\n",
      "An average Utility of 372.6870266096095 per episode to get the for 300\n",
      "An max Utility of 1637.9881772140684 to get the for 300\n",
      "----------------------------------------------\n"
     ]
    }
   ],
   "source": [
    "problem = \"fro_lake\"\n",
    "vi_plot_df = get_plot_data_vi(env, np.linspace(0.8,1.,10))\n",
    "pi_plot_df = get_plot_data_pi(env, np.linspace(0.8,.9999999,10))"
   ]
  },
  {
   "cell_type": "code",
   "execution_count": 294,
   "id": "69e3eb35",
   "metadata": {},
   "outputs": [],
   "source": [
    "# stack horizontally \n",
    "\n",
    "vi_pi_df = pd.concat([vi_plot_df, pi_plot_df], axis=1) \n",
    "\n",
    "vi_pi_df.rename(columns={\"VI_Gamma\":\"Gamma\"}, inplace = True)\n",
    "\n",
    "\n"
   ]
  },
  {
   "cell_type": "code",
   "execution_count": 295,
   "id": "a3317203",
   "metadata": {},
   "outputs": [
    {
     "data": {
      "image/png": "[encoded data removed]",
      "text/plain": [
       "<Figure size 432x288 with 1 Axes>"
      ]
     },
     "metadata": {
      "needs_background": "light"
     },
     "output_type": "display_data"
    }
   ],
   "source": [
    "\n",
    "ax = vi_pi_df.plot(x=\"Gamma\",\n",
    "                   y=[\"PI_Max_Reward\",\"VI_Max_Reward\" ], title=\"Max Reward\")\n",
    "plt.grid()\n",
    "ax.set_ylabel(\"Max Utility\")\n",
    "\n",
    "plt.savefig(f\"{problem}_pi_vi_max_reward.png\")\n",
    "\n"
   ]
  },
  {
   "cell_type": "code",
   "execution_count": 296,
   "id": "da603323",
   "metadata": {},
   "outputs": [
    {
     "data": {
      "image/png": "[encoded data removed]",
      "text/plain": [
       "<Figure size 432x288 with 1 Axes>"
      ]
     },
     "metadata": {
      "needs_background": "light"
     },
     "output_type": "display_data"
    }
   ],
   "source": [
    "ax = vi_pi_df.plot(x=\"Gamma\",\n",
    "                   y=[ \"PI_Success_ratio\",\"VI_Success_ratio\" ], title=\"Success Ratio 1000 episodes\") \n",
    "plt.grid()\n",
    "ax.set_ylabel(\"Success Ratio\")\n",
    "\n",
    "plt.savefig(f\"{problem}_pi_vi_success_ratio.png\")\n"
   ]
  },
  {
   "cell_type": "code",
   "execution_count": 228,
   "id": "72698b3f",
   "metadata": {},
   "outputs": [
    {
     "data": {
      "text/plain": [
       "Index(['VI_Iterations', 'VI_Time', 'VI_Max_Reward', 'VI_Avg_error', 'Gamma',\n",
       "       'VI_Success_ratio', 'VI_avg_steps', 'VI_avg_cum_util',\n",
       "       'VI_max_average_utility', 'VI_Mean_Reward', 'VI_Utility_Ratio',\n",
       "       'PI_Iterations', 'PI_Time', 'PI_Max_Reward', 'PI_Avg_error', 'PI_Gamma',\n",
       "       'PI_Success_ratio', 'PI_avg_steps', 'PI_avg_cum_util',\n",
       "       'PI_max_average_utility', 'PI_Mean_Reward', 'PI_Utility_Ratio'],\n",
       "      dtype='object')"
      ]
     },
     "execution_count": 228,
     "metadata": {},
     "output_type": "execute_result"
    }
   ],
   "source": [
    "vi_pi_df.columns"
   ]
  },
  {
   "cell_type": "code",
   "execution_count": 297,
   "id": "45582961",
   "metadata": {},
   "outputs": [
    {
     "data": {
      "image/png": "[encoded data removed]",
      "text/plain": [
       "<Figure size 432x288 with 1 Axes>"
      ]
     },
     "metadata": {
      "needs_background": "light"
     },
     "output_type": "display_data"
    }
   ],
   "source": [
    "ax = vi_pi_df.plot(x=\"Gamma\",\n",
    "                   y=[ 'VI_Utility_Ratio','PI_Utility_Ratio' ], title=\"Utility Ratio per 1000 episodes\") \n",
    "plt.grid()\n",
    "ax.set_ylabel(\"Utility Ratio\")\n",
    "plt.savefig(f\"{problem}_pi_vi_utility_ratio.png\")"
   ]
  },
  {
   "cell_type": "code",
   "execution_count": 298,
   "id": "49b1735d",
   "metadata": {},
   "outputs": [
    {
     "data": {
      "image/png": "[encoded data removed]",
      "text/plain": [
       "<Figure size 432x288 with 1 Axes>"
      ]
     },
     "metadata": {
      "needs_background": "light"
     },
     "output_type": "display_data"
    }
   ],
   "source": [
    "ax = vi_pi_df.plot(x=\"Gamma\",\n",
    "                   y=[ 'VI_Time','PI_Time' ], title=\"Time to Convergence vs Gamma\") \n",
    "plt.grid()\n",
    "ax.set_ylabel(\"Run Time (seconds)\")\n",
    "plt.savefig(f\"{problem}_pi_vi_time_to_convergevs_gamma.png\")"
   ]
  },
  {
   "cell_type": "code",
   "execution_count": 299,
   "id": "3c5a9459",
   "metadata": {},
   "outputs": [
    {
     "data": {
      "image/png": "[encoded data removed]",
      "text/plain": [
       "<Figure size 432x288 with 1 Axes>"
      ]
     },
     "metadata": {
      "needs_background": "light"
     },
     "output_type": "display_data"
    }
   ],
   "source": [
    "ax = vi_pi_df.plot(x=\"Gamma\",\n",
    "                   y=[ 'VI_Iterations','PI_Iterations' ], title=\"Iterations To Convergence vs Gamma\") \n",
    "plt.grid()\n",
    "ax.set_ylabel(\"Iterations\")\n",
    "plt.savefig(f\"{problem}_pi_vi_iterations_to_conv_gamma.png\")"
   ]
  },
  {
   "cell_type": "code",
   "execution_count": 300,
   "id": "796c0c17",
   "metadata": {},
   "outputs": [
    {
     "data": {
      "image/png": "[encoded data removed]",
      "text/plain": [
       "<Figure size 432x288 with 1 Axes>"
      ]
     },
     "metadata": {
      "needs_background": "light"
     },
     "output_type": "display_data"
    }
   ],
   "source": [
    "ax = vi_pi_df.plot(x=\"Gamma\",\n",
    "                   y=[ 'VI_avg_steps','PI_avg_steps' ], title=\"Average Steps vs Gamma\") \n",
    "plt.grid()\n",
    "ax.set_ylabel(\"Average Steps\")\n",
    "plt.savefig(f\"{problem}_pi_vi_avg_steps_v_gamma.png\")"
   ]
  },
  {
   "cell_type": "code",
   "execution_count": null,
   "id": "2477f65a",
   "metadata": {},
   "outputs": [],
   "source": [
    "# plots needed \n",
    "Reward (Utility) vs iterations\n",
    "Time vs iterations\n",
    "\n",
    "Reward (Utility) vs discount/gamma (PI, VI)≈\n",
    "Time vs discount/gamma (PI, VI)"
   ]
  },
  {
   "cell_type": "markdown",
   "id": "2ccd87e2",
   "metadata": {},
   "source": [
    "## final run "
   ]
  },
  {
   "cell_type": "code",
   "execution_count": 24,
   "id": "5ee3bd96",
   "metadata": {},
   "outputs": [],
   "source": [
    "## \n",
    "P, R = create_numeric_transition_and_reward_matrix(env, 4,64)\n",
    "pi = PolicyIteration(P,R,.99999,run_stat_frequency=True, max_iter=164)\n",
    "pi_dict = pi.run()\n",
    "pi_df = pd.DataFrame(pi_dict)\n",
    "vi = ValueIteration(P,R,.99999,run_stat_frequency=True)\n",
    "vi_dict = vi.run()\n",
    "vi_df = pd.DataFrame(vi_dict)"
   ]
  },
  {
   "cell_type": "code",
   "execution_count": 25,
   "id": "0eff391d",
   "metadata": {},
   "outputs": [
    {
     "data": {
      "text/html": [
       "<div>\n",
       "<style scoped>\n",
       "    .dataframe tbody tr th:only-of-type {\n",
       "        vertical-align: middle;\n",
       "    }\n",
       "\n",
       "    .dataframe tbody tr th {\n",
       "        vertical-align: top;\n",
       "    }\n",
       "\n",
       "    .dataframe thead th {\n",
       "        text-align: right;\n",
       "    }\n",
       "</style>\n",
       "<table border=\"1\" class=\"dataframe\">\n",
       "  <thead>\n",
       "    <tr style=\"text-align: right;\">\n",
       "      <th></th>\n",
       "      <th>State</th>\n",
       "      <th>Action</th>\n",
       "      <th>Reward</th>\n",
       "      <th>Error</th>\n",
       "      <th>Time</th>\n",
       "      <th>V[0]</th>\n",
       "      <th>Max V</th>\n",
       "      <th>Mean V</th>\n",
       "      <th>Iteration</th>\n",
       "    </tr>\n",
       "  </thead>\n",
       "  <tbody>\n",
       "    <tr>\n",
       "      <th>0</th>\n",
       "      <td>None</td>\n",
       "      <td>None</td>\n",
       "      <td>1.499993</td>\n",
       "      <td>4.999925e-01</td>\n",
       "      <td>0.022634</td>\n",
       "      <td>4.180807e-26</td>\n",
       "      <td>1.499993</td>\n",
       "      <td>0.052407</td>\n",
       "      <td>1</td>\n",
       "    </tr>\n",
       "    <tr>\n",
       "      <th>1</th>\n",
       "      <td>None</td>\n",
       "      <td>None</td>\n",
       "      <td>2.999400</td>\n",
       "      <td>7.418438e-01</td>\n",
       "      <td>0.023038</td>\n",
       "      <td>3.937188e-17</td>\n",
       "      <td>2.999400</td>\n",
       "      <td>0.704216</td>\n",
       "      <td>2</td>\n",
       "    </tr>\n",
       "    <tr>\n",
       "      <th>2</th>\n",
       "      <td>None</td>\n",
       "      <td>None</td>\n",
       "      <td>2.999400</td>\n",
       "      <td>4.612043e-01</td>\n",
       "      <td>0.023344</td>\n",
       "      <td>1.037195e+00</td>\n",
       "      <td>2.999400</td>\n",
       "      <td>1.278797</td>\n",
       "      <td>3</td>\n",
       "    </tr>\n",
       "    <tr>\n",
       "      <th>3</th>\n",
       "      <td>None</td>\n",
       "      <td>None</td>\n",
       "      <td>2.999400</td>\n",
       "      <td>8.816804e-02</td>\n",
       "      <td>0.023638</td>\n",
       "      <td>2.430169e+00</td>\n",
       "      <td>2.999400</td>\n",
       "      <td>1.792380</td>\n",
       "      <td>4</td>\n",
       "    </tr>\n",
       "    <tr>\n",
       "      <th>4</th>\n",
       "      <td>None</td>\n",
       "      <td>None</td>\n",
       "      <td>2.999400</td>\n",
       "      <td>4.685248e-02</td>\n",
       "      <td>0.023933</td>\n",
       "      <td>2.930751e+00</td>\n",
       "      <td>2.999400</td>\n",
       "      <td>1.987897</td>\n",
       "      <td>5</td>\n",
       "    </tr>\n",
       "    <tr>\n",
       "      <th>...</th>\n",
       "      <td>...</td>\n",
       "      <td>...</td>\n",
       "      <td>...</td>\n",
       "      <td>...</td>\n",
       "      <td>...</td>\n",
       "      <td>...</td>\n",
       "      <td>...</td>\n",
       "      <td>...</td>\n",
       "      <td>...</td>\n",
       "    </tr>\n",
       "    <tr>\n",
       "      <th>159</th>\n",
       "      <td>None</td>\n",
       "      <td>None</td>\n",
       "      <td>2.999400</td>\n",
       "      <td>1.465494e-14</td>\n",
       "      <td>0.069005</td>\n",
       "      <td>2.996524e+00</td>\n",
       "      <td>2.999400</td>\n",
       "      <td>2.026852</td>\n",
       "      <td>160</td>\n",
       "    </tr>\n",
       "    <tr>\n",
       "      <th>160</th>\n",
       "      <td>None</td>\n",
       "      <td>None</td>\n",
       "      <td>2.999400</td>\n",
       "      <td>2.775558e-15</td>\n",
       "      <td>0.069288</td>\n",
       "      <td>2.996524e+00</td>\n",
       "      <td>2.999400</td>\n",
       "      <td>2.026852</td>\n",
       "      <td>161</td>\n",
       "    </tr>\n",
       "    <tr>\n",
       "      <th>161</th>\n",
       "      <td>None</td>\n",
       "      <td>None</td>\n",
       "      <td>2.999400</td>\n",
       "      <td>8.881784e-16</td>\n",
       "      <td>0.069565</td>\n",
       "      <td>2.996524e+00</td>\n",
       "      <td>2.999400</td>\n",
       "      <td>2.026852</td>\n",
       "      <td>162</td>\n",
       "    </tr>\n",
       "    <tr>\n",
       "      <th>162</th>\n",
       "      <td>None</td>\n",
       "      <td>None</td>\n",
       "      <td>2.999400</td>\n",
       "      <td>7.771561e-16</td>\n",
       "      <td>0.069952</td>\n",
       "      <td>2.996524e+00</td>\n",
       "      <td>2.999400</td>\n",
       "      <td>2.026852</td>\n",
       "      <td>163</td>\n",
       "    </tr>\n",
       "    <tr>\n",
       "      <th>163</th>\n",
       "      <td>None</td>\n",
       "      <td>None</td>\n",
       "      <td>2.999400</td>\n",
       "      <td>1.465494e-14</td>\n",
       "      <td>0.070231</td>\n",
       "      <td>2.996524e+00</td>\n",
       "      <td>2.999400</td>\n",
       "      <td>2.026852</td>\n",
       "      <td>164</td>\n",
       "    </tr>\n",
       "  </tbody>\n",
       "</table>\n",
       "<p>164 rows × 9 columns</p>\n",
       "</div>"
      ],
      "text/plain": [
       "    State Action    Reward         Error      Time          V[0]     Max V  \\\n",
       "0    None   None  1.499993  4.999925e-01  0.022634  4.180807e-26  1.499993   \n",
       "1    None   None  2.999400  7.418438e-01  0.023038  3.937188e-17  2.999400   \n",
       "2    None   None  2.999400  4.612043e-01  0.023344  1.037195e+00  2.999400   \n",
       "3    None   None  2.999400  8.816804e-02  0.023638  2.430169e+00  2.999400   \n",
       "4    None   None  2.999400  4.685248e-02  0.023933  2.930751e+00  2.999400   \n",
       "..    ...    ...       ...           ...       ...           ...       ...   \n",
       "159  None   None  2.999400  1.465494e-14  0.069005  2.996524e+00  2.999400   \n",
       "160  None   None  2.999400  2.775558e-15  0.069288  2.996524e+00  2.999400   \n",
       "161  None   None  2.999400  8.881784e-16  0.069565  2.996524e+00  2.999400   \n",
       "162  None   None  2.999400  7.771561e-16  0.069952  2.996524e+00  2.999400   \n",
       "163  None   None  2.999400  1.465494e-14  0.070231  2.996524e+00  2.999400   \n",
       "\n",
       "       Mean V  Iteration  \n",
       "0    0.052407          1  \n",
       "1    0.704216          2  \n",
       "2    1.278797          3  \n",
       "3    1.792380          4  \n",
       "4    1.987897          5  \n",
       "..        ...        ...  \n",
       "159  2.026852        160  \n",
       "160  2.026852        161  \n",
       "161  2.026852        162  \n",
       "162  2.026852        163  \n",
       "163  2.026852        164  \n",
       "\n",
       "[164 rows x 9 columns]"
      ]
     },
     "execution_count": 25,
     "metadata": {},
     "output_type": "execute_result"
    }
   ],
   "source": [
    "pi_df"
   ]
  },
  {
   "cell_type": "code",
   "execution_count": 26,
   "id": "6298d0a5",
   "metadata": {},
   "outputs": [],
   "source": [
    "pi_df['VI Max V'] = vi_df.Reward\n",
    "pi_df['PI Max V'] = pi_df.Reward"
   ]
  },
  {
   "cell_type": "code",
   "execution_count": null,
   "id": "e058d879",
   "metadata": {},
   "outputs": [],
   "source": [
    "#need_reward_vs_iterations "
   ]
  },
  {
   "cell_type": "code",
   "execution_count": 28,
   "id": "bdac1034",
   "metadata": {},
   "outputs": [
    {
     "data": {
      "image/png": "[encoded data removed]",
      "text/plain": [
       "<Figure size 432x288 with 1 Axes>"
      ]
     },
     "metadata": {
      "needs_background": "light"
     },
     "output_type": "display_data"
    }
   ],
   "source": [
    "pi_df['VI Max V'] = vi_df.Reward\n",
    "pi_df['PI Max V'] = pi_df.Reward\n",
    "problem = \"fro_lake\"\n",
    "pi_df['VI_Error'] = vi_df.Error\n",
    "pi_df['PI_Error'] = pi_df.Error\n",
    "ax = pi_df.plot(x=\"Iteration\", y=['VI Max V', 'PI Max V'], title= \"Iterations vs Max Utility\")\n",
    "plt.grid()\n",
    "ax.set_ylabel(\"Max Utility\")\n",
    "plt.savefig(f\"{problem}_pi_vi_iter_util.png\")"
   ]
  },
  {
   "cell_type": "code",
   "execution_count": 29,
   "id": "13000c22",
   "metadata": {},
   "outputs": [
    {
     "data": {
      "image/png": "[encoded data removed]",
      "text/plain": [
       "<Figure size 432x288 with 1 Axes>"
      ]
     },
     "metadata": {
      "needs_background": "light"
     },
     "output_type": "display_data"
    }
   ],
   "source": [
    "pi_df['VI Time'] = vi_df.Time\n",
    "pi_df['PI Time'] = pi_df.Time\n",
    "problem = \"fro_lake\"\n",
    "\n",
    "ax = pi_df.plot(x=\"Iteration\", y=['VI Max V', 'PI Max V'], title= \"Iterations vs Time\")\n",
    "plt.grid()\n",
    "ax.set_ylabel(\"Time (seconds)\")\n",
    "plt.savefig(f\"{problem}_pi_vi_iter_time.png\")"
   ]
  },
  {
   "cell_type": "code",
   "execution_count": 1,
   "id": "1fc0d715",
   "metadata": {},
   "outputs": [
    {
     "ename": "NameError",
     "evalue": "name 'pi_df' is not defined",
     "output_type": "error",
     "traceback": [
      "\u001b[0;31m---------------------------------------------------------------------------\u001b[0m",
      "\u001b[0;31mNameError\u001b[0m                                 Traceback (most recent call last)",
      "\u001b[0;32m<ipython-input-1-6bfe04207be5>\u001b[0m in \u001b[0;36m<module>\u001b[0;34m\u001b[0m\n\u001b[0;32m----> 1\u001b[0;31m \u001b[0max\u001b[0m \u001b[0;34m=\u001b[0m \u001b[0mpi_df\u001b[0m\u001b[0;34m.\u001b[0m\u001b[0mplot\u001b[0m\u001b[0;34m(\u001b[0m\u001b[0mx\u001b[0m\u001b[0;34m=\u001b[0m\u001b[0;34m\"Iteration\"\u001b[0m\u001b[0;34m,\u001b[0m \u001b[0my\u001b[0m\u001b[0;34m=\u001b[0m\u001b[0;34m[\u001b[0m\u001b[0;34m\"VI_Error\"\u001b[0m\u001b[0;34m,\u001b[0m \u001b[0;34m\"PI_Error\"\u001b[0m\u001b[0;34m]\u001b[0m\u001b[0;34m,\u001b[0m \u001b[0mtitle\u001b[0m\u001b[0;34m=\u001b[0m \u001b[0;34m\"Convergence Over Iterations\"\u001b[0m\u001b[0;34m)\u001b[0m\u001b[0;34m\u001b[0m\u001b[0;34m\u001b[0m\u001b[0m\n\u001b[0m\u001b[1;32m      2\u001b[0m \u001b[0mplt\u001b[0m\u001b[0;34m.\u001b[0m\u001b[0mgrid\u001b[0m\u001b[0;34m(\u001b[0m\u001b[0;34m)\u001b[0m\u001b[0;34m\u001b[0m\u001b[0;34m\u001b[0m\u001b[0m\n\u001b[1;32m      3\u001b[0m \u001b[0max\u001b[0m\u001b[0;34m.\u001b[0m\u001b[0mset_ylabel\u001b[0m\u001b[0;34m(\u001b[0m\u001b[0;34m\"Error\"\u001b[0m\u001b[0;34m)\u001b[0m\u001b[0;34m\u001b[0m\u001b[0;34m\u001b[0m\u001b[0m\n\u001b[1;32m      4\u001b[0m \u001b[0;31m# plt.savefig(f\"{problem}_pi_vi_convergence_over_iter.png\")\u001b[0m\u001b[0;34m\u001b[0m\u001b[0;34m\u001b[0m\u001b[0;34m\u001b[0m\u001b[0m\n",
      "\u001b[0;31mNameError\u001b[0m: name 'pi_df' is not defined"
     ]
    }
   ],
   "source": [
    "pi_df['VI_Error'] = vi_df.Error\n",
    "pi_df['PI_Error'] = pi_df.Error\n",
    "ax = pi_df.plot(x=\"Iteration\", y=[\"VI_Error\", \"PI_Error\"], title= \"Convergence Over Iterations\")\n",
    "plt.grid()\n",
    "ax.set_ylabel(\"Error\")\n",
    "plt.savefig(f\"{problem}_pi_vi_convergence_over_iter.png\")"
   ]
  },
  {
   "cell_type": "code",
   "execution_count": 8,
   "id": "7f380cd9",
   "metadata": {},
   "outputs": [
    {
     "data": {
      "image/png": "[encoded data removed]",
      "text/plain": [
       "<Figure size 432x288 with 1 Axes>"
      ]
     },
     "metadata": {
      "needs_background": "light"
     },
     "output_type": "display_data"
    }
   ],
   "source": [
    "env = env.unwrapped\n",
    "desc = env.unwrapped.desc\n",
    "plot = plot_policy('Name',np.array(vi.policy).reshape(8,8),desc,colors_lake(),directions_lake())"
   ]
  },
  {
   "cell_type": "markdown",
   "id": "49a2bea8",
   "metadata": {},
   "source": [
    "## Policy Iteration "
   ]
  },
  {
   "cell_type": "code",
   "execution_count": null,
   "id": "fb23fb07",
   "metadata": {},
   "outputs": [],
   "source": [
    "Reward (Utility) vs iterations\n",
    "Reward (Utility) vs discount/gamma (PI, VI)≈\n",
    "Time vs iterations\n",
    "Time vs discount/gamma (PI, VI)"
   ]
  },
  {
   "cell_type": "code",
   "execution_count": 9,
   "id": "780d3837",
   "metadata": {},
   "outputs": [],
   "source": [
    "P, R = create_numeric_transition_and_reward_matrix(env, 4,64)\n",
    "pi = PolicyIteration(P,R,.9,run_stat_frequency=True, max_iter=1000)\n",
    "pi_dict = pi.run()\n",
    "pi_df = pd.DataFrame(pi_dict)"
   ]
  },
  {
   "cell_type": "code",
   "execution_count": null,
   "id": "64bd2551",
   "metadata": {},
   "outputs": [],
   "source": [
    "pd.DataFrame(pi_dict)"
   ]
  },
  {
   "cell_type": "code",
   "execution_count": null,
   "id": "c6deeeb1",
   "metadata": {},
   "outputs": [],
   "source": [
    "len(pi.error_mean)"
   ]
  },
  {
   "cell_type": "code",
   "execution_count": 150,
   "id": "a7a0cf35",
   "metadata": {},
   "outputs": [
    {
     "data": {
      "text/html": [
       "<div>\n",
       "<style scoped>\n",
       "    .dataframe tbody tr th:only-of-type {\n",
       "        vertical-align: middle;\n",
       "    }\n",
       "\n",
       "    .dataframe tbody tr th {\n",
       "        vertical-align: top;\n",
       "    }\n",
       "\n",
       "    .dataframe thead th {\n",
       "        text-align: right;\n",
       "    }\n",
       "</style>\n",
       "<table border=\"1\" class=\"dataframe\">\n",
       "  <thead>\n",
       "    <tr style=\"text-align: right;\">\n",
       "      <th></th>\n",
       "      <th>Iterations</th>\n",
       "      <th>Time</th>\n",
       "      <th>Max_Reward</th>\n",
       "      <th>Avg_error</th>\n",
       "      <th>Gamma</th>\n",
       "      <th>Success_ratio</th>\n",
       "      <th>avg_steps</th>\n",
       "      <th>avg_cum_util</th>\n",
       "      <th>max_average_utility</th>\n",
       "      <th>Mean_Reward</th>\n",
       "    </tr>\n",
       "  </thead>\n",
       "  <tbody>\n",
       "    <tr>\n",
       "      <th>0</th>\n",
       "      <td>1000</td>\n",
       "      <td>0.302549</td>\n",
       "      <td>1.617996</td>\n",
       "      <td>2.220446e-16</td>\n",
       "      <td>0.800000</td>\n",
       "      <td>0.645</td>\n",
       "      <td>76.072868</td>\n",
       "      <td>10.185328</td>\n",
       "      <td>68.355203</td>\n",
       "      <td>0.097198</td>\n",
       "    </tr>\n",
       "    <tr>\n",
       "      <th>1</th>\n",
       "      <td>1000</td>\n",
       "      <td>0.300838</td>\n",
       "      <td>1.665226</td>\n",
       "      <td>2.220446e-16</td>\n",
       "      <td>0.822222</td>\n",
       "      <td>0.718</td>\n",
       "      <td>71.529248</td>\n",
       "      <td>11.573062</td>\n",
       "      <td>64.836606</td>\n",
       "      <td>0.106272</td>\n",
       "    </tr>\n",
       "    <tr>\n",
       "      <th>2</th>\n",
       "      <td>1000</td>\n",
       "      <td>0.285065</td>\n",
       "      <td>1.718489</td>\n",
       "      <td>1.110223e-16</td>\n",
       "      <td>0.844444</td>\n",
       "      <td>0.709</td>\n",
       "      <td>77.775740</td>\n",
       "      <td>14.337343</td>\n",
       "      <td>87.334584</td>\n",
       "      <td>0.117863</td>\n",
       "    </tr>\n",
       "    <tr>\n",
       "      <th>3</th>\n",
       "      <td>8</td>\n",
       "      <td>0.002342</td>\n",
       "      <td>1.779491</td>\n",
       "      <td>7.848937e-02</td>\n",
       "      <td>0.866667</td>\n",
       "      <td>0.678</td>\n",
       "      <td>75.856932</td>\n",
       "      <td>15.974770</td>\n",
       "      <td>117.016154</td>\n",
       "      <td>0.133284</td>\n",
       "    </tr>\n",
       "    <tr>\n",
       "      <th>4</th>\n",
       "      <td>1000</td>\n",
       "      <td>0.290196</td>\n",
       "      <td>1.850807</td>\n",
       "      <td>1.387779e-16</td>\n",
       "      <td>0.888889</td>\n",
       "      <td>0.742</td>\n",
       "      <td>73.377358</td>\n",
       "      <td>19.803907</td>\n",
       "      <td>112.011748</td>\n",
       "      <td>0.154959</td>\n",
       "    </tr>\n",
       "    <tr>\n",
       "      <th>5</th>\n",
       "      <td>1000</td>\n",
       "      <td>0.284274</td>\n",
       "      <td>1.936614</td>\n",
       "      <td>2.220446e-16</td>\n",
       "      <td>0.911111</td>\n",
       "      <td>0.730</td>\n",
       "      <td>75.973973</td>\n",
       "      <td>25.620717</td>\n",
       "      <td>143.400398</td>\n",
       "      <td>0.187758</td>\n",
       "    </tr>\n",
       "    <tr>\n",
       "      <th>6</th>\n",
       "      <td>1000</td>\n",
       "      <td>0.286738</td>\n",
       "      <td>2.044366</td>\n",
       "      <td>2.220446e-16</td>\n",
       "      <td>0.933333</td>\n",
       "      <td>0.759</td>\n",
       "      <td>76.495389</td>\n",
       "      <td>33.355832</td>\n",
       "      <td>194.087230</td>\n",
       "      <td>0.242701</td>\n",
       "    </tr>\n",
       "    <tr>\n",
       "      <th>7</th>\n",
       "      <td>1000</td>\n",
       "      <td>0.285379</td>\n",
       "      <td>2.189405</td>\n",
       "      <td>3.685940e-16</td>\n",
       "      <td>0.955555</td>\n",
       "      <td>0.747</td>\n",
       "      <td>75.846051</td>\n",
       "      <td>47.806356</td>\n",
       "      <td>231.611344</td>\n",
       "      <td>0.349274</td>\n",
       "    </tr>\n",
       "    <tr>\n",
       "      <th>8</th>\n",
       "      <td>1000</td>\n",
       "      <td>0.292354</td>\n",
       "      <td>2.415613</td>\n",
       "      <td>1.026956e-15</td>\n",
       "      <td>0.977778</td>\n",
       "      <td>0.865</td>\n",
       "      <td>84.624277</td>\n",
       "      <td>92.633064</td>\n",
       "      <td>535.773352</td>\n",
       "      <td>0.614698</td>\n",
       "    </tr>\n",
       "    <tr>\n",
       "      <th>9</th>\n",
       "      <td>1000</td>\n",
       "      <td>0.286605</td>\n",
       "      <td>2.999994</td>\n",
       "      <td>6.994405e-15</td>\n",
       "      <td>1.000000</td>\n",
       "      <td>1.000</td>\n",
       "      <td>114.511000</td>\n",
       "      <td>343.530255</td>\n",
       "      <td>1412.989378</td>\n",
       "      <td>2.028956</td>\n",
       "    </tr>\n",
       "  </tbody>\n",
       "</table>\n",
       "</div>"
      ],
      "text/plain": [
       "   Iterations      Time  Max_Reward     Avg_error     Gamma  Success_ratio  \\\n",
       "0        1000  0.302549    1.617996  2.220446e-16  0.800000          0.645   \n",
       "1        1000  0.300838    1.665226  2.220446e-16  0.822222          0.718   \n",
       "2        1000  0.285065    1.718489  1.110223e-16  0.844444          0.709   \n",
       "3           8  0.002342    1.779491  7.848937e-02  0.866667          0.678   \n",
       "4        1000  0.290196    1.850807  1.387779e-16  0.888889          0.742   \n",
       "5        1000  0.284274    1.936614  2.220446e-16  0.911111          0.730   \n",
       "6        1000  0.286738    2.044366  2.220446e-16  0.933333          0.759   \n",
       "7        1000  0.285379    2.189405  3.685940e-16  0.955555          0.747   \n",
       "8        1000  0.292354    2.415613  1.026956e-15  0.977778          0.865   \n",
       "9        1000  0.286605    2.999994  6.994405e-15  1.000000          1.000   \n",
       "\n",
       "    avg_steps  avg_cum_util  max_average_utility  Mean_Reward  \n",
       "0   76.072868     10.185328            68.355203     0.097198  \n",
       "1   71.529248     11.573062            64.836606     0.106272  \n",
       "2   77.775740     14.337343            87.334584     0.117863  \n",
       "3   75.856932     15.974770           117.016154     0.133284  \n",
       "4   73.377358     19.803907           112.011748     0.154959  \n",
       "5   75.973973     25.620717           143.400398     0.187758  \n",
       "6   76.495389     33.355832           194.087230     0.242701  \n",
       "7   75.846051     47.806356           231.611344     0.349274  \n",
       "8   84.624277     92.633064           535.773352     0.614698  \n",
       "9  114.511000    343.530255          1412.989378     2.028956  "
      ]
     },
     "execution_count": 150,
     "metadata": {},
     "output_type": "execute_result"
    }
   ],
   "source": [
    "pi_plot_df.rename(columns = )"
   ]
  },
  {
   "cell_type": "code",
   "execution_count": null,
   "id": "a1cc2778",
   "metadata": {},
   "outputs": [],
   "source": [
    "# plots needed \n",
    "Reward (Utility) vs epsilon (Q learning)\n",
    "Reward (Utility) vs epsilon decay (Q learning)\n",
    "Reward (Utility) vs alpha (Q learning)\n",
    "Time vs iterations\n",
    "\n",
    "\n"
   ]
  },
  {
   "cell_type": "code",
   "execution_count": 34,
   "id": "65718bed",
   "metadata": {},
   "outputs": [],
   "source": [
    "def get_plot_data_qi_epsilon(env, gamma_range ):\n",
    "    iters = []\n",
    "    times = []\n",
    "    reward = [] \n",
    "    avg_error = []\n",
    "    epsilon = []\n",
    "    goal_out_of_2000_runs = []\n",
    "    avg_steps = []\n",
    "    avg_cum_utility =[]\n",
    "    max_cum_utility = []\n",
    "    mean_reward = []\n",
    "    util_ratio=[]\n",
    "    for i,v in enumerate(gamma_range):\n",
    "        P, R = create_numeric_transition_and_reward_matrix(env, 4,64)\n",
    "        vi_temp= QLearning(P,R,gamma=0.99, epsilon=v, n_iter=1000000)\n",
    "        vi_temp.run()\n",
    "        iters.append(i)\n",
    "        times.append(vi_temp.time)\n",
    "        reward.append(np.amax(vi_temp.V))\n",
    "        avg_error.append(np.amin(np.array(vi_temp.error_mean)))\n",
    "        epsilon.append(v)\n",
    "        misses, episodes, steps_list, reward_list = get_score(env, vi_temp.policy,vi_temp.V ,episodes=1000)\n",
    "        goal_out_of_2000_runs.append((episodes-misses)/episodes )\n",
    "        avg_steps.append(np.mean(steps_list))\n",
    "        avg_cum_utility.append(np.mean(reward_list))\n",
    "        max_cum_utility.append(np.amax(reward_list))\n",
    "        mean_reward.append(np.mean(vi_temp.V))\n",
    "        util_ratio.append(np.mean(reward_list)/np.amax(reward_list))\n",
    "    columns =[\"Iterations\", \"Time\", \"Max_Reward\", \"Avg_error\", \"epsilon\",\n",
    "              \"Success_ratio\", \n",
    "              \"avg_steps\",\n",
    "              \"avg_cum_util\", \"max_average_utility\", \"Mean_Reward\", \"Utility_Ratio\"]\n",
    "    columns = [ \"Q_{}\".format(c) for c in columns]\n",
    "    data = list(zip(iters,times,\n",
    "                    reward,avg_error,\n",
    "                    epsilon,\n",
    "                    goal_out_of_2000_runs,\n",
    "                    avg_steps,\n",
    "                    avg_cum_utility,\n",
    "                    max_cum_utility,\n",
    "                    mean_reward,\n",
    "                    util_ratio))\n",
    "    return pd.DataFrame(data,columns=columns)\n",
    "\n",
    "\n",
    "def get_plot_data_qi_epsilon_decay(env, gamma_range ):\n",
    "    iters = []\n",
    "    times = []\n",
    "    reward = [] \n",
    "    avg_error = []\n",
    "    epsilon = []\n",
    "    goal_out_of_2000_runs = []\n",
    "    avg_steps = []\n",
    "    avg_cum_utility =[]\n",
    "    max_cum_utility = []\n",
    "    mean_reward = []\n",
    "    util_ratio=[]\n",
    "    for i,v in enumerate(gamma_range):\n",
    "        P, R = create_numeric_transition_and_reward_matrix(env, 4,64)\n",
    "        vi_temp= QLearning(P,R,gamma=0.99, epsilon_decay=v, n_iter=1000000)\n",
    "        vi_temp.run()\n",
    "        iters.append(i)\n",
    "        times.append(vi_temp.time)\n",
    "        reward.append(np.amax(vi_temp.V))\n",
    "        avg_error.append(np.amin(np.array(vi_temp.error_mean)))\n",
    "        epsilon.append(v)\n",
    "        misses, episodes, steps_list, reward_list = get_score(env, vi_temp.policy,vi_temp.V ,episodes=1000)\n",
    "        goal_out_of_2000_runs.append((episodes-misses)/episodes )\n",
    "        avg_steps.append(np.mean(steps_list))\n",
    "        avg_cum_utility.append(np.mean(reward_list))\n",
    "        max_cum_utility.append(np.amax(reward_list))\n",
    "        mean_reward.append(np.mean(vi_temp.V))\n",
    "        util_ratio.append(np.mean(reward_list)/np.amax(reward_list))\n",
    "    columns =[\"Iterations\", \"Time\", \"Max_Reward\", \"Avg_error\", \"epsilon_decay\",\n",
    "              \"Success_ratio\", \n",
    "              \"avg_steps\",\n",
    "              \"avg_cum_util\", \"max_average_utility\", \"Mean_Reward\", \"Utility_Ratio\"]\n",
    "    columns = [ \"Q_{}\".format(c) for c in columns]\n",
    "    data = list(zip(iters,times,\n",
    "                    reward,avg_error,\n",
    "                    epsilon,\n",
    "                    goal_out_of_2000_runs,\n",
    "                    avg_steps,\n",
    "                    avg_cum_utility,\n",
    "                    max_cum_utility,\n",
    "                    mean_reward,\n",
    "                    util_ratio))\n",
    "    return pd.DataFrame(data,columns=columns)\n",
    "\n",
    "def get_plot_data_qi_alpha(env, gamma_range ):\n",
    "    iters = []\n",
    "    times = []\n",
    "    reward = [] \n",
    "    avg_error = []\n",
    "    epsilon = []\n",
    "    goal_out_of_2000_runs = []\n",
    "    avg_steps = []\n",
    "    avg_cum_utility =[]\n",
    "    max_cum_utility = []\n",
    "    mean_reward = []\n",
    "    util_ratio=[]\n",
    "    for i,v in enumerate(gamma_range):\n",
    "        P, R = create_numeric_transition_and_reward_matrix(env, 4,64)\n",
    "        vi_temp= QLearning(P,R,gamma=0.99, alpha=v, n_iter=1000000)\n",
    "        vi_temp.run()\n",
    "        iters.append(i)\n",
    "        times.append(vi_temp.time)\n",
    "        reward.append(np.amax(vi_temp.V))\n",
    "        avg_error.append(np.amin(np.array(vi_temp.error_mean)))\n",
    "        epsilon.append(v)\n",
    "        misses, episodes, steps_list, reward_list = get_score(env, vi_temp.policy,vi_temp.V ,episodes=1000)\n",
    "        goal_out_of_2000_runs.append((episodes-misses)/episodes )\n",
    "        avg_steps.append(np.mean(steps_list))\n",
    "        avg_cum_utility.append(np.mean(reward_list))\n",
    "        max_cum_utility.append(np.amax(reward_list))\n",
    "        mean_reward.append(np.mean(vi_temp.V))\n",
    "        util_ratio.append(np.mean(reward_list)/np.amax(reward_list))\n",
    "    columns =[\"Iterations\", \"Time\", \"Max_Reward\", \"Avg_error\", \"Alpha\",\n",
    "              \"Success_ratio\", \n",
    "              \"avg_steps\",\n",
    "              \"avg_cum_util\", \"max_average_utility\", \"Mean_Reward\", \"Utility_Ratio\"]\n",
    "    columns = [ \"Q_{}\".format(c) for c in columns]\n",
    "    data = list(zip(iters,times,\n",
    "                    reward,avg_error,\n",
    "                    epsilon,\n",
    "                    goal_out_of_2000_runs,\n",
    "                    avg_steps,\n",
    "                    avg_cum_utility,\n",
    "                    max_cum_utility,\n",
    "                    mean_reward,\n",
    "                    util_ratio))\n",
    "    return pd.DataFrame(data,columns=columns)"
   ]
  },
  {
   "cell_type": "code",
   "execution_count": 307,
   "id": "074317a5",
   "metadata": {},
   "outputs": [],
   "source": [
    "QLearning?"
   ]
  },
  {
   "cell_type": "code",
   "execution_count": null,
   "id": "b0815e22",
   "metadata": {},
   "outputs": [],
   "source": [
    "QLearning(\n",
    "    transitions,\n",
    "    reward,\n",
    "    gamma,\n",
    "    alpha=0.1,\n",
    "    alpha_decay=0.99,\n",
    "    alpha_min=0.001,\n",
    "    epsilon=1.0,\n",
    "    epsilon_min=0.1,\n",
    "    epsilon_decay=0.99,\n",
    "    n_iter=10000,\n",
    "    skip_check=False,\n",
    "    iter_callback=None,\n",
    "    run_stat_frequency=None,\n",
    ")"
   ]
  },
  {
   "cell_type": "code",
   "execution_count": 38,
   "id": "9cd2b859",
   "metadata": {},
   "outputs": [
    {
     "name": "stdout",
     "output_type": "stream",
     "text": [
      "----------------------------------------------\n",
      "You took an average of 102 steps to get the frisbee\n",
      "And you fell in the hole 98.10 % of the times\n",
      "An average Utility of 0.032033446260929854 per episode to get the for 1000\n",
      "An max Utility of 0.8986530621378161 to get the for 1000\n",
      "----------------------------------------------\n",
      "----------------------------------------------\n",
      "You took an average of 75 steps to get the frisbee\n",
      "And you fell in the hole 99.30 % of the times\n",
      "An average Utility of 0.00784125628027941 per episode to get the for 1000\n",
      "An max Utility of 1.1746146285906651 to get the for 1000\n",
      "----------------------------------------------\n",
      "----------------------------------------------\n",
      "You took an average of 86 steps to get the frisbee\n",
      "And you fell in the hole 99.70 % of the times\n",
      "An average Utility of 0.004520731323939968 per episode to get the for 1000\n",
      "An max Utility of 0.899376774046539 to get the for 1000\n",
      "----------------------------------------------\n",
      "----------------------------------------------\n",
      "You took an average of 41 steps to get the frisbee\n",
      "And you fell in the hole 99.40 % of the times\n",
      "An average Utility of 0.013772336435370272 per episode to get the for 1000\n",
      "An max Utility of 1.3481292011763994 to get the for 1000\n",
      "----------------------------------------------\n",
      "----------------------------------------------\n",
      "You took an average of 35 steps to get the frisbee\n",
      "And you fell in the hole 99.40 % of the times\n",
      "An average Utility of 0.015594059530092774 per episode to get the for 1000\n",
      "An max Utility of 1.26713583782759 to get the for 1000\n",
      "----------------------------------------------\n",
      "----------------------------------------------\n",
      "You took an average of 79 steps to get the frisbee\n",
      "And you fell in the hole 99.10 % of the times\n",
      "An average Utility of 0.010902543313243232 per episode to get the for 1000\n",
      "An max Utility of 1.1520037411051314 to get the for 1000\n",
      "----------------------------------------------\n",
      "----------------------------------------------\n",
      "You took an average of 80 steps to get the frisbee\n",
      "And you fell in the hole 97.60 % of the times\n",
      "An average Utility of 0.05643729359343806 per episode to get the for 1000\n",
      "An max Utility of 3.9081657021696374 to get the for 1000\n",
      "----------------------------------------------\n",
      "----------------------------------------------\n",
      "You took an average of 50 steps to get the frisbee\n",
      "And you fell in the hole 99.30 % of the times\n",
      "An average Utility of 0.018482615966840397 per episode to get the for 1000\n",
      "An max Utility of 1.4371015060273344 to get the for 1000\n",
      "----------------------------------------------\n",
      "----------------------------------------------\n",
      "You took an average of 31 steps to get the frisbee\n",
      "And you fell in the hole 99.80 % of the times\n",
      "An average Utility of 0.00504117236841884 per episode to get the for 1000\n",
      "An max Utility of 0.46860861514177626 to get the for 1000\n",
      "----------------------------------------------\n",
      "----------------------------------------------\n",
      "You took an average of 42 steps to get the frisbee\n",
      "And you fell in the hole 99.60 % of the times\n",
      "An average Utility of 0.008944262436636352 per episode to get the for 1000\n",
      "An max Utility of 0.967917462492078 to get the for 1000\n",
      "----------------------------------------------\n",
      "----------------------------------------------\n",
      "You took an average of 52 steps to get the frisbee\n",
      "And you fell in the hole 99.20 % of the times\n",
      "An average Utility of 0.015127105923937966 per episode to get the for 1000\n",
      "An max Utility of 1.3346599011037452 to get the for 1000\n",
      "----------------------------------------------\n",
      "----------------------------------------------\n",
      "You took an average of 93 steps to get the frisbee\n",
      "And you fell in the hole 92.20 % of the times\n",
      "An average Utility of 0.32410352535771825 per episode to get the for 1000\n",
      "An max Utility of 8.809721457564782 to get the for 1000\n",
      "----------------------------------------------\n",
      "----------------------------------------------\n",
      "You took an average of 46 steps to get the frisbee\n",
      "And you fell in the hole 99.40 % of the times\n",
      "An average Utility of 0.014623219900081875 per episode to get the for 1000\n",
      "An max Utility of 3.8614043156407596 to get the for 1000\n",
      "----------------------------------------------\n",
      "----------------------------------------------\n",
      "You took an average of 75 steps to get the frisbee\n",
      "And you fell in the hole 92.90 % of the times\n",
      "An average Utility of 0.30672443963235935 per episode to get the for 1000\n",
      "An max Utility of 4.200946314314212 to get the for 1000\n",
      "----------------------------------------------\n",
      "----------------------------------------------\n",
      "You took an average of 24 steps to get the frisbee\n",
      "And you fell in the hole 99.80 % of the times\n",
      "An average Utility of 0.004334307862675487 per episode to get the for 1000\n",
      "An max Utility of 1.093298023301887 to get the for 1000\n",
      "----------------------------------------------\n",
      "----------------------------------------------\n",
      "You took an average of 97 steps to get the frisbee\n",
      "And you fell in the hole 98.20 % of the times\n",
      "An average Utility of 0.04094154825111281 per episode to get the for 1000\n",
      "An max Utility of 1.1282796982627248 to get the for 1000\n",
      "----------------------------------------------\n",
      "----------------------------------------------\n",
      "You took an average of 108 steps to get the frisbee\n",
      "And you fell in the hole 99.00 % of the times\n",
      "An average Utility of 0.020607515717240888 per episode to get the for 1000\n",
      "An max Utility of 1.419348494983677 to get the for 1000\n",
      "----------------------------------------------\n",
      "----------------------------------------------\n",
      "You took an average of 95 steps to get the frisbee\n",
      "And you fell in the hole 98.80 % of the times\n",
      "An average Utility of 0.020292322975176916 per episode to get the for 1000\n",
      "An max Utility of 1.5342653503409127 to get the for 1000\n",
      "----------------------------------------------\n",
      "----------------------------------------------\n",
      "You took an average of 73 steps to get the frisbee\n",
      "And you fell in the hole 98.80 % of the times\n",
      "An average Utility of 0.020211305926863484 per episode to get the for 1000\n",
      "An max Utility of 1.0264889323505404 to get the for 1000\n",
      "----------------------------------------------\n",
      "----------------------------------------------\n",
      "You took an average of 58 steps to get the frisbee\n",
      "And you fell in the hole 99.00 % of the times\n",
      "An average Utility of 0.0176102250607086 per episode to get the for 1000\n",
      "An max Utility of 0.9027058528930076 to get the for 1000\n",
      "----------------------------------------------\n",
      "----------------------------------------------\n",
      "You took an average of 89 steps to get the frisbee\n",
      "And you fell in the hole 99.20 % of the times\n",
      "An average Utility of 0.020640005145770222 per episode to get the for 1000\n",
      "An max Utility of 1.5795126637265666 to get the for 1000\n",
      "----------------------------------------------\n",
      "----------------------------------------------\n",
      "You took an average of 43 steps to get the frisbee\n",
      "And you fell in the hole 99.60 % of the times\n",
      "An average Utility of 0.015679348145499886 per episode to get the for 1000\n",
      "An max Utility of 3.3896858060634316 to get the for 1000\n",
      "----------------------------------------------\n",
      "----------------------------------------------\n",
      "You took an average of 76 steps to get the frisbee\n",
      "And you fell in the hole 99.50 % of the times\n",
      "An average Utility of 0.003193830018155257 per episode to get the for 1000\n",
      "An max Utility of 0.6018193573367481 to get the for 1000\n",
      "----------------------------------------------\n",
      "----------------------------------------------\n",
      "You took an average of 64 steps to get the frisbee\n",
      "And you fell in the hole 95.20 % of the times\n",
      "An average Utility of 0.135565673754358 per episode to get the for 1000\n",
      "An max Utility of 2.141233741629465 to get the for 1000\n",
      "----------------------------------------------\n",
      "----------------------------------------------\n",
      "You took an average of 55 steps to get the frisbee\n",
      "And you fell in the hole 99.70 % of the times\n",
      "An average Utility of 0.004566044524683092 per episode to get the for 1000\n",
      "An max Utility of 1.3299816347442364 to get the for 1000\n",
      "----------------------------------------------\n",
      "----------------------------------------------\n",
      "You took an average of 67 steps to get the frisbee\n",
      "And you fell in the hole 96.40 % of the times\n",
      "An average Utility of 0.09685381138983153 per episode to get the for 1000\n",
      "An max Utility of 2.4135429999312747 to get the for 1000\n",
      "----------------------------------------------\n"
     ]
    },
    {
     "name": "stdout",
     "output_type": "stream",
     "text": [
      "----------------------------------------------\n",
      "You took an average of 57 steps to get the frisbee\n",
      "And you fell in the hole 99.40 % of the times\n",
      "An average Utility of 0.007693525455975051 per episode to get the for 1000\n",
      "An max Utility of 1.4157644558690152 to get the for 1000\n",
      "----------------------------------------------\n",
      "----------------------------------------------\n",
      "You took an average of 97 steps to get the frisbee\n",
      "And you fell in the hole 97.50 % of the times\n",
      "An average Utility of 0.0689762272296827 per episode to get the for 1000\n",
      "An max Utility of 1.796678380924986 to get the for 1000\n",
      "----------------------------------------------\n",
      "----------------------------------------------\n",
      "You took an average of 43 steps to get the frisbee\n",
      "And you fell in the hole 99.60 % of the times\n",
      "An average Utility of 0.009367627098739572 per episode to get the for 1000\n",
      "An max Utility of 0.8113029772358542 to get the for 1000\n",
      "----------------------------------------------\n",
      "----------------------------------------------\n",
      "You took an average of 55 steps to get the frisbee\n",
      "And you fell in the hole 95.10 % of the times\n",
      "An average Utility of 0.02274561499019583 per episode to get the for 1000\n",
      "An max Utility of 0.5817713413783462 to get the for 1000\n",
      "----------------------------------------------\n"
     ]
    }
   ],
   "source": [
    "qi_plot_df_alpha = get_plot_data_qi_alpha(env, np.linspace(0.001,1.,10))\n",
    "qi_plot_df_epsilon = get_plot_data_qi_epsilon(env, np.linspace(0.1,1.,10))\n",
    "qi_plot_df_epsilon_decay = get_plot_data_qi_epsilon_decay(env, np.linspace(0.1,1.,10))\n",
    "\n",
    "\n"
   ]
  },
  {
   "cell_type": "code",
   "execution_count": 37,
   "id": "a1df0ef6",
   "metadata": {},
   "outputs": [],
   "source": [
    "get_score?"
   ]
  },
  {
   "cell_type": "code",
   "execution_count": null,
   "id": "d761fea0",
   "metadata": {},
   "outputs": [],
   "source": []
  },
  {
   "cell_type": "code",
   "execution_count": 389,
   "id": "6fe965cb",
   "metadata": {},
   "outputs": [
    {
     "data": {
      "text/html": [
       "<div>\n",
       "<style scoped>\n",
       "    .dataframe tbody tr th:only-of-type {\n",
       "        vertical-align: middle;\n",
       "    }\n",
       "\n",
       "    .dataframe tbody tr th {\n",
       "        vertical-align: top;\n",
       "    }\n",
       "\n",
       "    .dataframe thead th {\n",
       "        text-align: right;\n",
       "    }\n",
       "</style>\n",
       "<table border=\"1\" class=\"dataframe\">\n",
       "  <thead>\n",
       "    <tr style=\"text-align: right;\">\n",
       "      <th></th>\n",
       "      <th>Iterations</th>\n",
       "      <th>Time</th>\n",
       "      <th>Max_Reward</th>\n",
       "      <th>Avg_error</th>\n",
       "      <th>epsilon</th>\n",
       "      <th>Success_ratio</th>\n",
       "      <th>avg_steps</th>\n",
       "      <th>avg_cum_util</th>\n",
       "      <th>max_average_utility</th>\n",
       "      <th>Mean_Reward</th>\n",
       "      <th>Utility_Ratio</th>\n",
       "    </tr>\n",
       "  </thead>\n",
       "  <tbody>\n",
       "    <tr>\n",
       "      <th>0</th>\n",
       "      <td>0</td>\n",
       "      <td>45.915255</td>\n",
       "      <td>0.432041</td>\n",
       "      <td>1.349205e-07</td>\n",
       "      <td>0.1</td>\n",
       "      <td>0.007</td>\n",
       "      <td>77.428571</td>\n",
       "      <td>0.014898</td>\n",
       "      <td>2.022901</td>\n",
       "      <td>0.013408</td>\n",
       "      <td>0.007365</td>\n",
       "    </tr>\n",
       "    <tr>\n",
       "      <th>1</th>\n",
       "      <td>1</td>\n",
       "      <td>45.494153</td>\n",
       "      <td>0.412725</td>\n",
       "      <td>9.880397e-12</td>\n",
       "      <td>0.2</td>\n",
       "      <td>0.010</td>\n",
       "      <td>52.000000</td>\n",
       "      <td>0.012235</td>\n",
       "      <td>1.817517</td>\n",
       "      <td>0.013136</td>\n",
       "      <td>0.006732</td>\n",
       "    </tr>\n",
       "    <tr>\n",
       "      <th>2</th>\n",
       "      <td>2</td>\n",
       "      <td>45.494260</td>\n",
       "      <td>0.436553</td>\n",
       "      <td>1.001147e-07</td>\n",
       "      <td>0.3</td>\n",
       "      <td>0.018</td>\n",
       "      <td>71.000000</td>\n",
       "      <td>0.033416</td>\n",
       "      <td>1.062864</td>\n",
       "      <td>0.014813</td>\n",
       "      <td>0.031440</td>\n",
       "    </tr>\n",
       "    <tr>\n",
       "      <th>3</th>\n",
       "      <td>3</td>\n",
       "      <td>44.380840</td>\n",
       "      <td>0.374105</td>\n",
       "      <td>1.058395e-09</td>\n",
       "      <td>0.4</td>\n",
       "      <td>0.003</td>\n",
       "      <td>72.666667</td>\n",
       "      <td>0.009251</td>\n",
       "      <td>0.906030</td>\n",
       "      <td>0.012529</td>\n",
       "      <td>0.010211</td>\n",
       "    </tr>\n",
       "    <tr>\n",
       "      <th>4</th>\n",
       "      <td>4</td>\n",
       "      <td>43.741882</td>\n",
       "      <td>0.449347</td>\n",
       "      <td>3.097006e-10</td>\n",
       "      <td>0.5</td>\n",
       "      <td>0.003</td>\n",
       "      <td>38.000000</td>\n",
       "      <td>0.007983</td>\n",
       "      <td>2.900303</td>\n",
       "      <td>0.014262</td>\n",
       "      <td>0.002753</td>\n",
       "    </tr>\n",
       "    <tr>\n",
       "      <th>5</th>\n",
       "      <td>5</td>\n",
       "      <td>47.703624</td>\n",
       "      <td>0.400489</td>\n",
       "      <td>2.949180e-10</td>\n",
       "      <td>0.6</td>\n",
       "      <td>0.019</td>\n",
       "      <td>94.684211</td>\n",
       "      <td>0.033594</td>\n",
       "      <td>1.696940</td>\n",
       "      <td>0.013290</td>\n",
       "      <td>0.019797</td>\n",
       "    </tr>\n",
       "    <tr>\n",
       "      <th>6</th>\n",
       "      <td>6</td>\n",
       "      <td>45.881277</td>\n",
       "      <td>0.426231</td>\n",
       "      <td>0.000000e+00</td>\n",
       "      <td>0.7</td>\n",
       "      <td>0.015</td>\n",
       "      <td>67.133333</td>\n",
       "      <td>0.031388</td>\n",
       "      <td>1.997762</td>\n",
       "      <td>0.014941</td>\n",
       "      <td>0.015712</td>\n",
       "    </tr>\n",
       "    <tr>\n",
       "      <th>7</th>\n",
       "      <td>7</td>\n",
       "      <td>44.994651</td>\n",
       "      <td>0.370824</td>\n",
       "      <td>2.199819e-10</td>\n",
       "      <td>0.8</td>\n",
       "      <td>0.011</td>\n",
       "      <td>79.909091</td>\n",
       "      <td>0.017836</td>\n",
       "      <td>0.914493</td>\n",
       "      <td>0.011988</td>\n",
       "      <td>0.019503</td>\n",
       "    </tr>\n",
       "    <tr>\n",
       "      <th>8</th>\n",
       "      <td>8</td>\n",
       "      <td>44.987732</td>\n",
       "      <td>0.536391</td>\n",
       "      <td>6.800895e-09</td>\n",
       "      <td>0.9</td>\n",
       "      <td>0.006</td>\n",
       "      <td>57.666667</td>\n",
       "      <td>0.018788</td>\n",
       "      <td>5.294282</td>\n",
       "      <td>0.015686</td>\n",
       "      <td>0.003549</td>\n",
       "    </tr>\n",
       "    <tr>\n",
       "      <th>9</th>\n",
       "      <td>9</td>\n",
       "      <td>49.579299</td>\n",
       "      <td>0.125165</td>\n",
       "      <td>9.581623e-09</td>\n",
       "      <td>1.0</td>\n",
       "      <td>0.154</td>\n",
       "      <td>64.376623</td>\n",
       "      <td>0.059930</td>\n",
       "      <td>0.650342</td>\n",
       "      <td>0.003754</td>\n",
       "      <td>0.092152</td>\n",
       "    </tr>\n",
       "  </tbody>\n",
       "</table>\n",
       "</div>"
      ],
      "text/plain": [
       "   Iterations       Time  Max_Reward     Avg_error  epsilon  Success_ratio  \\\n",
       "0           0  45.915255    0.432041  1.349205e-07      0.1          0.007   \n",
       "1           1  45.494153    0.412725  9.880397e-12      0.2          0.010   \n",
       "2           2  45.494260    0.436553  1.001147e-07      0.3          0.018   \n",
       "3           3  44.380840    0.374105  1.058395e-09      0.4          0.003   \n",
       "4           4  43.741882    0.449347  3.097006e-10      0.5          0.003   \n",
       "5           5  47.703624    0.400489  2.949180e-10      0.6          0.019   \n",
       "6           6  45.881277    0.426231  0.000000e+00      0.7          0.015   \n",
       "7           7  44.994651    0.370824  2.199819e-10      0.8          0.011   \n",
       "8           8  44.987732    0.536391  6.800895e-09      0.9          0.006   \n",
       "9           9  49.579299    0.125165  9.581623e-09      1.0          0.154   \n",
       "\n",
       "   avg_steps  avg_cum_util  max_average_utility  Mean_Reward  Utility_Ratio  \n",
       "0  77.428571      0.014898             2.022901     0.013408       0.007365  \n",
       "1  52.000000      0.012235             1.817517     0.013136       0.006732  \n",
       "2  71.000000      0.033416             1.062864     0.014813       0.031440  \n",
       "3  72.666667      0.009251             0.906030     0.012529       0.010211  \n",
       "4  38.000000      0.007983             2.900303     0.014262       0.002753  \n",
       "5  94.684211      0.033594             1.696940     0.013290       0.019797  \n",
       "6  67.133333      0.031388             1.997762     0.014941       0.015712  \n",
       "7  79.909091      0.017836             0.914493     0.011988       0.019503  \n",
       "8  57.666667      0.018788             5.294282     0.015686       0.003549  \n",
       "9  64.376623      0.059930             0.650342     0.003754       0.092152  "
      ]
     },
     "execution_count": 389,
     "metadata": {},
     "output_type": "execute_result"
    }
   ],
   "source": [
    "qi_plot_df_epsilon_decay"
   ]
  },
  {
   "cell_type": "code",
   "execution_count": null,
   "id": "2bf1cadc",
   "metadata": {},
   "outputs": [],
   "source": [
    "# plots needed \n",
    "Reward (Utility) vs epsilon (Q learning)\n",
    "Reward (Utility) vs epsilon decay (Q learning)\n",
    "Reward (Utility) vs alpha (Q learning)\n",
    "Time vs iterations\n",
    "Reward vs Iterations"
   ]
  },
  {
   "cell_type": "code",
   "execution_count": 387,
   "id": "2dade39f",
   "metadata": {},
   "outputs": [
    {
     "data": {
      "text/plain": [
       "['Iterations',\n",
       " 'Time',\n",
       " 'Max_Reward',\n",
       " 'Avg_error',\n",
       " 'epsilon',\n",
       " 'Success_ratio',\n",
       " 'avg_steps',\n",
       " 'avg_cum_util',\n",
       " 'max_average_utility',\n",
       " 'Mean_Reward',\n",
       " 'Utility_Ratio']"
      ]
     },
     "execution_count": 387,
     "metadata": {},
     "output_type": "execute_result"
    }
   ],
   "source": [
    "[c.replace(\"VI_\",\"\")for c in qi_plot_df_alpha.columns]"
   ]
  },
  {
   "cell_type": "code",
   "execution_count": 384,
   "id": "4f20fdc5",
   "metadata": {},
   "outputs": [],
   "source": [
    "qi_plot_df_alpha.columns = [c.replace(\"VI_\",\"\")for c in qi_plot_df_epsilon.columns]\n",
    "qi_plot_df_epsilon_decay.columns = [c.replace(\"VI_\",\"\")for c in qi_plot_df_epsilon.columns]\n",
    "qi_plot_df_epsilon.columns =[c.replace(\"VI_\",\"\")for c in qi_plot_df_epsilon.columns]"
   ]
  },
  {
   "cell_type": "code",
   "execution_count": 392,
   "id": "1c07dae9",
   "metadata": {},
   "outputs": [],
   "source": [
    "qi_plot_df_alpha.rename(columns={\"epsilon\":\"Alpha\"}, inplace = True)"
   ]
  },
  {
   "cell_type": "code",
   "execution_count": 393,
   "id": "9a047b64",
   "metadata": {},
   "outputs": [],
   "source": [
    "qi_plot_df_epsilon_decay.rename(columns={\"epsilon\":\"epsilon_decay\"}, inplace = True)"
   ]
  },
  {
   "cell_type": "code",
   "execution_count": 396,
   "id": "c12d9418",
   "metadata": {},
   "outputs": [
    {
     "data": {
      "text/plain": [
       "Index(['Iterations', 'Time', 'Max_Reward', 'Avg_error', 'Alpha',\n",
       "       'Success_ratio', 'avg_steps', 'avg_cum_util', 'max_average_utility',\n",
       "       'Mean_Reward', 'Utility_Ratio'],\n",
       "      dtype='object')"
      ]
     },
     "execution_count": 396,
     "metadata": {},
     "output_type": "execute_result"
    }
   ],
   "source": [
    "qi_plot_df_alpha.columns"
   ]
  },
  {
   "cell_type": "code",
   "execution_count": 49,
   "id": "6f169966",
   "metadata": {},
   "outputs": [
    {
     "data": {
      "image/png": "[encoded data removed]",
      "text/plain": [
       "<Figure size 432x288 with 1 Axes>"
      ]
     },
     "metadata": {
      "needs_background": "light"
     },
     "output_type": "display_data"
    }
   ],
   "source": [
    "ax = qi_plot_df_alpha.plot(x=\"Q_Alpha\", y=\"Q_Max_Reward\", title=\"Max Reward Vs Alpha\")\n",
    "ax.set_ylabel(\"Max Utility\")\n",
    "plt.grid()\n",
    "plt.savefig(\"fro_lake_max_reward_vs_alpha.png\");"
   ]
  },
  {
   "cell_type": "code",
   "execution_count": 63,
   "id": "cf535de5",
   "metadata": {},
   "outputs": [
    {
     "data": {
      "image/png": "[encoded data removed]",
      "text/plain": [
       "<Figure size 432x288 with 1 Axes>"
      ]
     },
     "metadata": {
      "needs_background": "light"
     },
     "output_type": "display_data"
    }
   ],
   "source": [
    "ax = qi_plot_df_epsilon.plot(x=\"Q_epsilon\", y=\"Q_Max_Reward\", title=\"Max Reward Vs Epsilon\")\n",
    "ax.set_ylabel(\"Max Utility\")\n",
    "plt.grid()\n",
    "plt.savefig(\"fro_lake_avg_utility_vs_epsilon2.png\");"
   ]
  },
  {
   "cell_type": "code",
   "execution_count": 51,
   "id": "16ec4f30",
   "metadata": {},
   "outputs": [
    {
     "data": {
      "image/png": "[encoded data removed]",
      "text/plain": [
       "<Figure size 432x288 with 1 Axes>"
      ]
     },
     "metadata": {
      "needs_background": "light"
     },
     "output_type": "display_data"
    }
   ],
   "source": [
    "ax = qi_plot_df_epsilon_decay.plot(x=\"Q_epsilon_decay\", y=\"Q_Max_Reward\", title=\"Max Reward Vs Epsilon\")\n",
    "ax.set_ylabel(\"Max Utility\")\n",
    "plt.grid()\n",
    "plt.savefig(\"fro_lake_avg_utility_vs_epsilon_decay.png\");"
   ]
  },
  {
   "cell_type": "code",
   "execution_count": 376,
   "id": "8182c3c4",
   "metadata": {},
   "outputs": [
    {
     "name": "stdout",
     "output_type": "stream",
     "text": [
      "Frozen Lake 8x8 Q-Learning\n",
      "----------------------------------------------\n",
      "You took an average of 61 steps to get the frisbee\n",
      "And you fell in the hole 97.70 % of the times\n",
      "An average Utility of 2.3865234807513893 per episode to get the for 1000\n",
      "An max Utility of 22.80143375419099 to get the for 1000\n",
      "----------------------------------------------\n"
     ]
    },
    {
     "data": {
      "image/png": "[encoded data removed]",
      "text/plain": [
       "<Figure size 432x288 with 1 Axes>"
      ]
     },
     "metadata": {
      "needs_background": "light"
     },
     "output_type": "display_data"
    }
   ],
   "source": [
    "print('Frozen Lake 8x8 Q-Learning')\n",
    "P, R = create_numeric_transition_and_reward_matrix(env, 4,64)\n",
    "q = QLearning(P, R, gamma=0.99 ,alpha = 0.223 , epsilon=0.7, epsilon_decay = 0.99,n_iter=10000000,run_stat_frequency=True)\n",
    "q_dict = q.run()\n",
    "q_df = pd.DataFrame(q_dict)\n",
    "misses, episodes, steps_list, reward_list =get_score(env, q.policy,q.V, episodes=1000)\n",
    "plot = plot_policy('Name',np.array(q.policy).reshape(8,8),desc,colors_lake(),directions_lake())\n"
   ]
  },
  {
   "cell_type": "markdown",
   "id": "d84fecb8",
   "metadata": {},
   "source": [
    "### Save Optimal Policies"
   ]
  },
  {
   "cell_type": "code",
   "execution_count": 377,
   "id": "6539bcbf",
   "metadata": {},
   "outputs": [
    {
     "data": {
      "image/png": "[encoded data removed]",
      "text/plain": [
       "<Figure size 432x288 with 1 Axes>"
      ]
     },
     "metadata": {
      "needs_background": "light"
     },
     "output_type": "display_data"
    }
   ],
   "source": [
    "plot = plot_policy('Q-Learning Optimal Policy',np.array(q.policy).reshape(8,8),desc,colors_lake(),directions_lake())\n",
    "plt.savefig(\"Q_optimal_fro_lake.png\")"
   ]
  },
  {
   "cell_type": "code",
   "execution_count": 435,
   "id": "d4ede4ee",
   "metadata": {},
   "outputs": [
    {
     "data": {
      "image/png": "[encoded data removed]",
      "text/plain": [
       "<Figure size 432x288 with 1 Axes>"
      ]
     },
     "metadata": {
      "needs_background": "light"
     },
     "output_type": "display_data"
    }
   ],
   "source": [
    "plot = plot_policy('Policy Iteration Optimal Policy',np.array(pi.policy).reshape(8,8),desc,colors_lake(),directions_lake())\n",
    "plt.savefig(\"PI_optimal_fro_lake.png\")"
   ]
  },
  {
   "cell_type": "code",
   "execution_count": 436,
   "id": "e429951b",
   "metadata": {},
   "outputs": [
    {
     "data": {
      "image/png": "[encoded data removed]",
      "text/plain": [
       "<Figure size 432x288 with 1 Axes>"
      ]
     },
     "metadata": {
      "needs_background": "light"
     },
     "output_type": "display_data"
    }
   ],
   "source": [
    "plot = plot_policy('Value Iteration Optimal Policy',np.array(vi.policy).reshape(8,8),desc,colors_lake(),directions_lake())\n",
    "plt.savefig(\"VI_optimal_fro_lake.png\")"
   ]
  },
  {
   "cell_type": "code",
   "execution_count": 432,
   "id": "9e0b19fb",
   "metadata": {},
   "outputs": [
    {
     "data": {
      "image/png": "[encoded data removed]",
      "text/plain": [
       "<Figure size 432x288 with 1 Axes>"
      ]
     },
     "metadata": {
      "needs_background": "light"
     },
     "output_type": "display_data"
    }
   ],
   "source": [
    "ax = q_df.iloc[::10000,:].plot(x=\"Iteration\", y=\"Max V\", title=\"Q-Learning Reward VS Iterations \")\n",
    "ax.plot()\n",
    "ax.set_ylabel(\"Max Utility\")\n",
    "plt.savefig(\"fro_q_max_v_vs_itret.png\")"
   ]
  },
  {
   "cell_type": "code",
   "execution_count": 57,
   "id": "1c61cf0d",
   "metadata": {},
   "outputs": [],
   "source": [
    "def plot_policy_init(title, policy, map_desc, color_map, direction_map):\n",
    "    fig = plt.figure()\n",
    "    ax = fig.add_subplot(111, xlim=(0, policy.shape[1]), ylim=(0, policy.shape[0]))\n",
    "    font_size = 'x-large'\n",
    "    plt.title(title)\n",
    "    for i in range(policy.shape[0]):\n",
    "        for j in range(policy.shape[1]):\n",
    "            y = policy.shape[0] - i - 1\n",
    "            x = j\n",
    "            p = plt.Rectangle([x, y], 1, 1)\n",
    "            rectangle_color = color_map[map_desc[i, j]]\n",
    "            p.set_facecolor(rectangle_color)\n",
    "            ax.add_patch(p)\n",
    "            if rectangle_color == 'gold':\n",
    "                text = ax.text(x+0.5, y+0.5, \"GOAL\", weight='bold', size=font_size,\n",
    "                           horizontalalignment='center', verticalalignment='center', color='w')\n",
    "                \n",
    "            elif rectangle_color == 'black':\n",
    "                text = ax.text(x+0.5, y+0.5, \"HOLE\", weight='bold', size=font_size,\n",
    "                           horizontalalignment='center', verticalalignment='center', color='w')\n",
    "            \n",
    "            \n",
    "            elif rectangle_color == 'green':\n",
    "                text = ax.text(x+0.5, y+0.5, \"START\", weight='bold', size=font_size,\n",
    "                           horizontalalignment='center', verticalalignment='center', color='w')\n",
    "                \n",
    "            else:\n",
    "                text = ax.text(x+0.5, y+0.5, \"ICE\", weight='bold', size=font_size,\n",
    "                           horizontalalignment='center', verticalalignment='center', color='w')\n",
    "                \n",
    "    plt.axis('off')\n",
    "    plt.xlim((0, policy.shape[1]))\n",
    "    plt.ylim((0, policy.shape[0]))\n",
    "    plt.tight_layout()  "
   ]
  },
  {
   "cell_type": "code",
   "execution_count": 60,
   "id": "6998b9dc",
   "metadata": {},
   "outputs": [
    {
     "data": {
      "image/png": "[encoded data removed]",
      "text/plain": [
       "<Figure size 432x288 with 1 Axes>"
      ]
     },
     "metadata": {
      "needs_background": "light"
     },
     "output_type": "display_data"
    }
   ],
   "source": [
    "plot = plot_policy_init('Frozen Lake Intial State',np.array(vi.policy).reshape(8,8),desc,colors_lake(),directions_lake())\n",
    "plt.savefig(\"init_fro_lake.png\")"
   ]
  },
  {
   "cell_type": "code",
   "execution_count": 430,
   "id": "e9d9a483",
   "metadata": {},
   "outputs": [
    {
     "data": {
      "image/png": "[encoded data removed]",
      "text/plain": [
       "<Figure size 432x288 with 1 Axes>"
      ]
     },
     "metadata": {
      "needs_background": "light"
     },
     "output_type": "display_data"
    }
   ],
   "source": [
    "ax = q_df.iloc[::10000,:].plot(x=\"Iteration\", y=\"Time\", title=\"Q-Learning Reward VS Time \")\n",
    "ax.set_ylabel(\"Time (seconds)\")\n",
    "\n",
    "plt.savefig(\"fro_q_max_v_vs_time.png\")"
   ]
  },
  {
   "cell_type": "markdown",
   "id": "427d94ec",
   "metadata": {},
   "source": [
    "# Environment Complexity \n",
    "* Original Env \n",
    "* Optimal Policy\n",
    "* Relative reward vs environment complexity (PI ,VI, Q learning)\n",
    "* Time to solution vs environment complexity (PI, VI, Q learning)\n"
   ]
  },
  {
   "cell_type": "code",
   "execution_count": 53,
   "id": "34d5baee",
   "metadata": {},
   "outputs": [
    {
     "name": "stdout",
     "output_type": "stream",
     "text": [
      "  (Right)\n",
      "SFFFFFFF\n",
      "FFFFFFFF\n",
      "FFFHFFFF\n",
      "FFFFF\u001b[41mH\u001b[0mFF\n",
      "FFFHFFFF\n",
      "FHHFFFHF\n",
      "FHFFHFHF\n",
      "FFFHFFFG\n"
     ]
    }
   ],
   "source": [
    "env.render()"
   ]
  },
  {
   "cell_type": "code",
   "execution_count": 56,
   "id": "4ac05416",
   "metadata": {},
   "outputs": [
    {
     "name": "stdout",
     "output_type": "stream",
     "text": [
      "\n",
      "\u001b[41mS\u001b[0mFFFFFFF\n",
      "FFFFFFFF\n",
      "FFFHFFFF\n",
      "FFFFFHFF\n",
      "FFFHFFFF\n",
      "FHHFFFHF\n",
      "FHFFHFHF\n",
      "FFFHFFFG\n"
     ]
    }
   ],
   "source": [
    "env.render()"
   ]
  },
  {
   "cell_type": "code",
   "execution_count": 55,
   "id": "40ba092c",
   "metadata": {},
   "outputs": [
    {
     "data": {
      "text/plain": [
       "0"
      ]
     },
     "execution_count": 55,
     "metadata": {},
     "output_type": "execute_result"
    }
   ],
   "source": [
    "env.reset()"
   ]
  },
  {
   "cell_type": "code",
   "execution_count": 61,
   "id": "17713d14",
   "metadata": {},
   "outputs": [],
   "source": [
    "QLearning?"
   ]
  },
  {
   "cell_type": "code",
   "execution_count": 64,
   "id": "d431491b",
   "metadata": {},
   "outputs": [
    {
     "name": "stdout",
     "output_type": "stream",
     "text": [
      "----------------------------------------------\n",
      "You took an average of 111 steps to get the frisbee\n",
      "And you fell in the hole 0.40 % of the times\n",
      "An average Utility of 303.8337178095731 per episode to get the for 1000\n",
      "An max Utility of 1998.771841194018 to get the for 1000\n",
      "----------------------------------------------\n"
     ]
    }
   ],
   "source": [
    "misses, episodes, steps_list, reward_list =get_score(env, vi.policy,vi.V, episodes=1000)"
   ]
  },
  {
   "cell_type": "code",
   "execution_count": 65,
   "id": "b103292e",
   "metadata": {},
   "outputs": [
    {
     "name": "stdout",
     "output_type": "stream",
     "text": [
      "----------------------------------------------\n",
      "You took an average of 118 steps to get the frisbee\n",
      "And you fell in the hole 0.00 % of the times\n",
      "An average Utility of 354.9288864764775 per episode to get the for 1000\n",
      "An max Utility of 1603.7699956865347 to get the for 1000\n",
      "----------------------------------------------\n"
     ]
    }
   ],
   "source": [
    "misses, episodes, steps_list, reward_list =get_score(env, pi.policy,pi.V, episodes=1000)"
   ]
  },
  {
   "cell_type": "code",
   "execution_count": null,
   "id": "5889eb30",
   "metadata": {},
   "outputs": [],
   "source": []
  }
 ],
 "metadata": {
  "kernelspec": {
   "display_name": "Python 3",
   "language": "python",
   "name": "python3"
  },
  "language_info": {
   "codemirror_mode": {
    "name": "ipython",
    "version": 3
   },
   "file_extension": ".py",
   "mimetype": "text/x-python",
   "name": "python",
   "nbconvert_exporter": "python",
   "pygments_lexer": "ipython3",
   "version": "3.7.10"
  }
 },
 "nbformat": 4,
 "nbformat_minor": 5
}
